{
  "nbformat": 4,
  "nbformat_minor": 0,
  "metadata": {
    "colab": {
      "provenance": [],
      "authorship_tag": "ABX9TyOZJjO7lfoNYn1qro3aytC0",
      "include_colab_link": true
    },
    "kernelspec": {
      "name": "python3",
      "display_name": "Python 3"
    },
    "language_info": {
      "name": "python"
    }
  },
  "cells": [
    {
      "cell_type": "markdown",
      "metadata": {
        "id": "view-in-github",
        "colab_type": "text"
      },
      "source": [
        "<a href=\"https://colab.research.google.com/github/RizqiRHuda/PVCK_Semester5/blob/main/week7.ipynb\" target=\"_parent\"><img src=\"https://colab.research.google.com/assets/colab-badge.svg\" alt=\"Open In Colab\"/></a>"
      ]
    },
    {
      "cell_type": "markdown",
      "source": [
        "## **MODUL 7 – Filter Spasial Low Pass Filter, High Pass Filter, Point Detection, Line Detection, Edge Detection**\n",
        "\n",
        "Nama     : Rizqi Rohmatul Huda\n",
        "\n",
        "Kelas    : TI-3C\n",
        "\n",
        "No.Absen : 21\n",
        "\n",
        "NIM      : 2141720264"
      ],
      "metadata": {
        "id": "JmsAZ6N4IgxT"
      }
    },
    {
      "cell_type": "markdown",
      "source": [
        "### **D. Praktikum Filter**\n",
        "1. Buatlah fungsi konvolusi menggunakan algoritma yang telah dijelaskan pada Bagian C, tanpa\n",
        "menggunakan library atau metode konvolusi dari OpenCV.\n",
        "2. Berikut merupakan langkah-langkah yang dapat dilakukan:\n",
        "\n",
        "a. Buat notebook baru pada google colab, dan beri nama Week7.ipynb. Simpan Salinan pada akun github seperti pada modul sebelumnya.\n"
      ],
      "metadata": {
        "id": "RoRRZfF9AEAw"
      }
    },
    {
      "cell_type": "markdown",
      "source": [
        "b. Akses file yang terdapat pada drive dan import beberapa library yang dibutuhkan"
      ],
      "metadata": {
        "id": "o2-iAGk5A2lj"
      }
    },
    {
      "cell_type": "code",
      "execution_count": 1,
      "metadata": {
        "colab": {
          "base_uri": "https://localhost:8080/"
        },
        "id": "9Acc2cVoIP-J",
        "outputId": "3cfb9028-c089-45c9-b09a-c3b488a0be81"
      },
      "outputs": [
        {
          "output_type": "stream",
          "name": "stdout",
          "text": [
            "Drive already mounted at /content/drive; to attempt to forcibly remount, call drive.mount(\"/content/drive\", force_remount=True).\n"
          ]
        }
      ],
      "source": [
        "\n",
        "from google.colab import drive\n",
        "drive.mount('/content/drive')"
      ]
    },
    {
      "cell_type": "code",
      "source": [
        "import numpy as np\n",
        "import matplotlib.pyplot as plt\n",
        "import cv2 as cv\n",
        "import math\n",
        "from google.colab.patches import cv2_imshow\n",
        "from PIL import Image as im"
      ],
      "metadata": {
        "id": "ahS2HbMYBLER"
      },
      "execution_count": 2,
      "outputs": []
    },
    {
      "cell_type": "markdown",
      "source": [
        "c. Buatlah fungsi konvolusi. Catatan: parameter yang digunakan boleh dimodifikasi.\n",
        "Misal, hanya menggunakan parameter image dan kernel saja, atau image, kernel, dan\n",
        "padding."
      ],
      "metadata": {
        "id": "lGP8j4CqBnVU"
      }
    },
    {
      "cell_type": "markdown",
      "source": [],
      "metadata": {
        "id": "Q0jn1gTUBpHw"
      }
    }
  ]
}