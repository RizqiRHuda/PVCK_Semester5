{
  "nbformat": 4,
  "nbformat_minor": 0,
  "metadata": {
    "colab": {
      "provenance": [],
      "toc_visible": true,
      "authorship_tag": "ABX9TyNvw3jaG1wJAxJbchqf2/3I",
      "include_colab_link": true
    },
    "kernelspec": {
      "name": "python3",
      "display_name": "Python 3"
    },
    "language_info": {
      "name": "python"
    }
  },
  "cells": [
    {
      "cell_type": "markdown",
      "metadata": {
        "id": "view-in-github",
        "colab_type": "text"
      },
      "source": [
        "<a href=\"https://colab.research.google.com/github/RizqiRHuda/PVCK_Semester5/blob/main/week7.ipynb\" target=\"_parent\"><img src=\"https://colab.research.google.com/assets/colab-badge.svg\" alt=\"Open In Colab\"/></a>"
      ]
    },
    {
      "cell_type": "markdown",
      "source": [
        "## **MODUL 7 – Filter Spasial Low Pass Filter, High Pass Filter, Point Detection, Line Detection, Edge Detection**\n",
        "\n",
        "Nama     : Rizqi Rohmatul Huda\n",
        "\n",
        "Kelas    : TI-3C\n",
        "\n",
        "No.Absen : 21\n",
        "\n",
        "NIM      : 2141720264"
      ],
      "metadata": {
        "id": "JmsAZ6N4IgxT"
      }
    },
    {
      "cell_type": "markdown",
      "source": [
        "### **D. Praktikum Filter**"
      ],
      "metadata": {
        "id": "loH4-s1k_JuW"
      }
    },
    {
      "cell_type": "markdown",
      "source": [
        "1. Buatlah fungsi konvolusi menggunakan algoritma yang telah dijelaskan pada Bagian C, tanpa\n",
        "menggunakan library atau metode konvolusi dari OpenCV.\n",
        "2. Berikut merupakan langkah-langkah yang dapat dilakukan:\n",
        "\n",
        "a. Buat notebook baru pada google colab, dan beri nama Week7.ipynb. Simpan Salinan pada akun github seperti pada modul sebelumnya.\n"
      ],
      "metadata": {
        "id": "UIhnuHzK_GeJ"
      }
    },
    {
      "cell_type": "markdown",
      "source": [
        "b. Akses file yang terdapat pada drive dan import beberapa library yang dibutuhkan"
      ],
      "metadata": {
        "id": "bDigzVUO_S6D"
      }
    },
    {
      "cell_type": "code",
      "source": [],
      "metadata": {
        "id": "GRs3Qwzk_5sz"
      },
      "execution_count": null,
      "outputs": []
    },
    {
      "cell_type": "code",
      "execution_count": null,
      "metadata": {
        "colab": {
          "base_uri": "https://localhost:8080/"
        },
        "id": "9Acc2cVoIP-J",
        "outputId": "cfd803b9-083b-4355-c5a2-d88b7e48b607"
      },
      "outputs": [
        {
          "output_type": "stream",
          "name": "stdout",
          "text": [
            "hello\n"
          ]
        }
      ],
      "source": [
        "print('hello')"
      ]
    }
  ]
}