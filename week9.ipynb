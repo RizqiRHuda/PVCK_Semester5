{
  "nbformat": 4,
  "nbformat_minor": 0,
  "metadata": {
    "colab": {
      "provenance": [],
      "mount_file_id": "1zFQHqvzJfLssKUmo7dGtNf_UI35UagLU",
      "authorship_tag": "ABX9TyMnDaNSeB3WYZ81+IG+XXMz",
      "include_colab_link": true
    },
    "kernelspec": {
      "name": "python3",
      "display_name": "Python 3"
    },
    "language_info": {
      "name": "python"
    }
  },
  "cells": [
    {
      "cell_type": "markdown",
      "metadata": {
        "id": "view-in-github",
        "colab_type": "text"
      },
      "source": [
        "<a href=\"https://colab.research.google.com/github/RizqiRHuda/PVCK_Semester5/blob/main/week9.ipynb\" target=\"_parent\"><img src=\"https://colab.research.google.com/assets/colab-badge.svg\" alt=\"Open In Colab\"/></a>"
      ]
    },
    {
      "cell_type": "markdown",
      "source": [
        "## **MODUL 9 – Morfologi (Erosi, Dilasi, Opening, Closing, Transformasi Top-hat dan Bottom-hat, Skeleton, Thickening)**\n",
        "\n",
        "\n",
        "Nama         : Rizqi Rohmatul Huda\n",
        "\n",
        "Kelas        : TI-3C\n",
        "\n",
        "Nomor Absen  : 21\n",
        "\n",
        "NIM          : 2141720264"
      ],
      "metadata": {
        "id": "1o6FPc11RfDz"
      }
    },
    {
      "cell_type": "code",
      "execution_count": null,
      "metadata": {
        "id": "4Nz8uhFHRXP1"
      },
      "outputs": [],
      "source": []
    }
  ]
}