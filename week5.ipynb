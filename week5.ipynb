{
  "nbformat": 4,
  "nbformat_minor": 0,
  "metadata": {
    "colab": {
      "provenance": [],
      "authorship_tag": "ABX9TyNviPLQinUqLToB0P/SvGnY",
      "include_colab_link": true
    },
    "kernelspec": {
      "name": "python3",
      "display_name": "Python 3"
    },
    "language_info": {
      "name": "python"
    }
  },
  "cells": [
    {
      "cell_type": "markdown",
      "metadata": {
        "id": "view-in-github",
        "colab_type": "text"
      },
      "source": [
        "<a href=\"https://colab.research.google.com/github/RizqiRHuda/PVCK_Semester5/blob/main/week5.ipynb\" target=\"_parent\"><img src=\"https://colab.research.google.com/assets/colab-badge.svg\" alt=\"Open In Colab\"/></a>"
      ]
    },
    {
      "cell_type": "markdown",
      "source": [
        "## **MODUL 5 – Operasi Aritmatika dan Logika - Gamma Correction,Image Depth, PSNR, Average Denoising, Image Masking**\n",
        "\n",
        "### Rizqi Rohmatul Huda\n",
        "### TI - 3C / 21\n",
        "### 2141720264"
      ],
      "metadata": {
        "id": "ejYawBJ3Kaq4"
      }
    },
    {
      "cell_type": "code",
      "execution_count": null,
      "metadata": {
        "id": "ggas8x7XKLsd"
      },
      "outputs": [],
      "source": []
    }
  ]
}