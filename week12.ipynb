{
  "nbformat": 4,
  "nbformat_minor": 0,
  "metadata": {
    "colab": {
      "provenance": [],
      "authorship_tag": "ABX9TyNbO0Z8iqzGzf/A2Ap62VJj",
      "include_colab_link": true
    },
    "kernelspec": {
      "name": "python3",
      "display_name": "Python 3"
    },
    "language_info": {
      "name": "python"
    }
  },
  "cells": [
    {
      "cell_type": "markdown",
      "metadata": {
        "id": "view-in-github",
        "colab_type": "text"
      },
      "source": [
        "<a href=\"https://colab.research.google.com/github/RizqiRHuda/PVCK_Semester5/blob/main/week12.ipynb\" target=\"_parent\"><img src=\"https://colab.research.google.com/assets/colab-badge.svg\" alt=\"Open In Colab\"/></a>"
      ]
    },
    {
      "cell_type": "markdown",
      "source": [
        "## **MODUL 12 – Feature Matching, Face Detection, Face Tracking**\n",
        "\n",
        "Nama          : Rizqi Rohmatul Huda\n",
        "\n",
        "Kelas         : TI-3C\n",
        "\n",
        "Nomor Absen   : 21  \n",
        "\n",
        "NIM           : 2141720264"
      ],
      "metadata": {
        "id": "FuK6eLccbKvm"
      }
    },
    {
      "cell_type": "markdown",
      "source": [
        "### **D. TUGAS PRAKTIKUM**"
      ],
      "metadata": {
        "id": "nJwIjl1sb2no"
      }
    },
    {
      "cell_type": "code",
      "execution_count": null,
      "metadata": {
        "id": "1nHuxhtaa8LA"
      },
      "outputs": [],
      "source": []
    }
  ]
}