{
  "nbformat": 4,
  "nbformat_minor": 0,
  "metadata": {
    "colab": {
      "provenance": [],
      "authorship_tag": "ABX9TyMkx9FQcRYDtEtB8Iz1HWAj",
      "include_colab_link": true
    },
    "kernelspec": {
      "name": "python3",
      "display_name": "Python 3"
    },
    "language_info": {
      "name": "python"
    }
  },
  "cells": [
    {
      "cell_type": "markdown",
      "metadata": {
        "id": "view-in-github",
        "colab_type": "text"
      },
      "source": [
        "<a href=\"https://colab.research.google.com/github/RizqiRHuda/PVCK_Semester5/blob/main/Week1.ipynb\" target=\"_parent\"><img src=\"https://colab.research.google.com/assets/colab-badge.svg\" alt=\"Open In Colab\"/></a>"
      ]
    },
    {
      "cell_type": "markdown",
      "source": [
        "# Praktikum\n",
        "Langkah 1 - mengimpor modul\n",
        "\n",
        "\n"
      ],
      "metadata": {
        "id": "niUtpB5uFffh"
      }
    },
    {
      "cell_type": "code",
      "source": [
        "import numpy as np\n",
        "import pandas as pd\n",
        "import cv2 as cv\n",
        "from google.colab.patches import cv2_imshow\n",
        "from skimage import io\n",
        "from skimage import transform\n",
        "from PIL import Image\n",
        "import matplotlib.pylab as plt"
      ],
      "metadata": {
        "id": "vuYPOPo3GeM2"
      },
      "execution_count": 45,
      "outputs": []
    },
    {
      "cell_type": "markdown",
      "source": [
        "Langkah 2 - membaca dan menampilkan image\n"
      ],
      "metadata": {
        "id": "D6QVfP06FzlT"
      }
    },
    {
      "cell_type": "code",
      "source": [
        "urls = [\"https://iiif.lib.ncsu.edu/iiif/0052574/full/800,/0/default.jpg\",\"https://iiif.lib.ncsu.edu/iiif/0016007/full/800,/0/default.jpg\",\"https://placekitten.com/800/571\"]\n",
        "\n",
        "for url in urls:\n",
        "  image = io.imread(url)\n",
        "  image = cv.resize(image,(0,0), fx=0.5, fy=0.5)\n",
        "  image_2 = cv.cvtColor(image, cv.COLOR_BGR2RGB)\n",
        "  final_frame = cv.hconcat((image, image_2))\n",
        "  cv2_imshow(final_frame)\n",
        "  print('\\n')\n"
      ],
      "metadata": {
        "id": "M21NeQ69GJgC"
      },
      "execution_count": null,
      "outputs": []
    },
    {
      "cell_type": "markdown",
      "source": [
        "Langkah 3 - melihat ukuran file image"
      ],
      "metadata": {
        "id": "KYI8YMueIUSN"
      }
    },
    {
      "cell_type": "code",
      "source": [
        "tinggi = image_2.shape[0]\n",
        "lebar = image_2.shape[1]\n",
        "print(\"resolusi image: tinggi x lebar = \", tinggi, \" x\" , lebar)\n",
        "cv2_imshow(image_2)"
      ],
      "metadata": {
        "id": "8UWz1IpfIWZV"
      },
      "execution_count": null,
      "outputs": []
    },
    {
      "cell_type": "markdown",
      "source": [
        "Langkah 4 - mengakses pixel dengan memberi garis diagonal menyilang\n",
        "\n",
        "\n"
      ],
      "metadata": {
        "id": "JiiFN55tI9fQ"
      }
    },
    {
      "cell_type": "code",
      "source": [
        "image_2 = cv.cvtColor(image, cv.COLOR_BGR2RGB)\n",
        "image_3 = cv.cvtColor(image, cv.COLOR_BGR2RGB)\n",
        "\n",
        "# membuat garis horizontal di tengah image\n",
        "for y in range(lebar):\n",
        "  image_3[int((tinggi)/2), y] = [255,255,255]\n",
        "\n",
        "final_frame = cv.hconcat((image_2, image_3))\n",
        "cv2_imshow(final_frame)"
      ],
      "metadata": {
        "id": "Bk6Na6ugJCv7"
      },
      "execution_count": null,
      "outputs": []
    },
    {
      "cell_type": "markdown",
      "source": [
        "## Pertanyaan\n",
        "1. Jelaskan, mengapa pada modul praktikum ini eksekusi kode Python dilakukan menggunakan Google Colab?\n",
        "#### Jawab : karena pada Google Colab sudah memiliki banyak pustaka yang sudah diinstal dan siap digunakan.  \n",
        "2.  Jelaskan mengenai kegunaan setiap library pada praktikum langkah ke delapan? Apakah semua library tersebut harus digunakan dalam praktikum sesi ini?\n",
        "#### Jawab :\n",
        "\n",
        "*   numpy : perpustakaan Python yang digunakan untuk bekerja dengan array dan memiliki fungsi untuk bekerja dalam domain aljabar linier, transformasi fourier, dan matriks.\n",
        "\n",
        "*   Pandas : digunakan untuk analisis data dan pemrosesan data berbasis tabel (dataframe) sehingga memungkinkan untuk membaca, mengolah, menganalisis, dan memanipulasi data dengan cara yang efisien\n",
        "\n",
        "*   cv2 : OpenCV (Open Source Computer Vision Library) berguna dalam bidang pemrosesan citra dan komputer, seperti halnya  melakukan berbagai operasi pada gambar dan video, seperti pembacaan, penulisan, deteksi objek, analisis citra, dan pengolahan citra.\n",
        "\n",
        "*   google.colab.patches import cv2_imshow : digunakan untuk menampilkan gambar yang diproses dengan OpenCV di dalam lingkungan Google Colab.\n",
        "\n",
        "* skimage import io : berguna untuk untuk pemrosesan gambar yang memungkinkan Anda melakukan berbagai operasi pada gambar seperti pembacaan, penulisan, manipulasi, dan transformasi.\n",
        "\n",
        "* skimage import transform : mengubah ukuran atau resolusi gambar, seperti menurunkan sampel gambar ke mengurangi ukurannya atau meningkatkan sampel gambar untuk meningkatkan resolusinya\n",
        "\n",
        "*  PIL: digunakan untuk bekerja dengan berbagai format gambar yang dapat membuka, mengedit, dan menyimpan gambar dalam berbagai format, serta melakukan berbagai operasi seperti konversi format, resize,dan crop.\n",
        "\n",
        "* matplotlib.pylab : membuat berbagai jenis plot dan grafik untuk mewakili data secara visual. Fungsi \"pylab\"untuk memberikan lingkungan agar serasa menggunakan MatLab.\n",
        "\n",
        "3.  Pada uji coba langkah ke-9 terdapat potongan kode program sebagai berikut :\n",
        "  ```\n",
        "  image = cv.resize(image,(0,0), fx=0.5, fy=0.5)\n",
        "  ```\n",
        "  #### Apa kegunaan kode program tersebut?dan apa pengaruhnya jika tidak dilakukan?\n",
        "  #### Jawab :\n",
        "  *  Fungsi kode : digunakan untuk meresize (mengubah ukuran) gambar yang disimpan dalam variabel image.\n",
        "  #### cv.resize(image, (0,0), fx=0.5, fy=0.5) : digunakan untuk melakukan resizing pada gambar. Parameter pertama adalah gambar yang akan diresize. Parameter kedua (0,0) adalah ukuran target yang diinginkan untuk gambar hasil resize\n",
        "\n",
        "  * Pengaruh Jika Tidak Dilakukan: gambar akan tetap dalam ukuran aslinya. Ini bisa menjadi masalah jika gambar terlalu besar untuk ditampilkan dengan benar dalam tampilan atau jika diperlukan untuk mengurangi ukuran gambar untuk tujuan penyimpanan atau penghematan kinerja. Kegagalan untuk melakukan scaling gambar juga dapat mengakibatkan waktu eksekusi yang lebih lama saat melakukan operasi berat pada gambar, karena gambar besar membutuhkan lebih banyak sumber daya daya komputasi.\n",
        "\n",
        "\n",
        "4. Perhatikan potongan kode program berikut :\n",
        "\n",
        "    ```\n",
        "    # membuat garis horizontal di tengah image\n",
        "    for y in range(lebar):\n",
        "      image_3[int((tinggi)/2), y] = [255,255,255]\n",
        "```\n",
        "Apakah kegunaan kode [255,255,255] ? Jelaskan!\n",
        "#### Jawab : kegunaan kode [255,255,255] adalah untuk mengubah warna piksel dalam gambar pada baris tengah gambar\n",
        "\n",
        "5.  Jelaskan keterkaitan antara pixel dan juga resolusi gambar yang tinggi ataupun rendah!\n",
        "#### Jawab :\n",
        "\n",
        "\n",
        "*   Resolusi tinggi dan beberapa piksel: Gambar dengan resolusi tinggi memiliki lebih banyak piksel per unit panjang. Hal ini memungkinkan gambar untuk menyimpan lebih banyak detail dan memberikan output visual yang lebih tajam dan lebih halus. gambar resolusinya tinggi sangat ideal untuk pencetakan berkualitas tinggi dan layar besar.\n",
        "\n",
        "*  Resolusi rendah dan piksel kecil: Gambar dengan resolusi rendah memiliki lebih sedikit piksel per unit panjang. Ini menyebabkan hilangnya beberapa detail, dan gambar cenderung terlihat kasar atau kabur.\n",
        "\n",
        "\n",
        "\n",
        "\n",
        "\n",
        "\n",
        "\n",
        "\n",
        "\n",
        "\n"
      ],
      "metadata": {
        "id": "UFZ3lyIcLdRO"
      }
    },
    {
      "cell_type": "markdown",
      "source": [
        "**Tugas**\n",
        "\n",
        "\n",
        "\n",
        "1.   Lakukan langkah-langkah praktikum seperti diatas\n",
        "2.   Buat garis vertikal dan garis menyilang diagonal pada image keluaran\n",
        "3.   Buat garis horisontal berwarna putih dibagian tengah gambar dengan panjang tertentu\n",
        "4.    Buat kotak menggunakan kumpulan pixel warna putih di sembarang tempat dalam gambar\n",
        "\n",
        "\n",
        "\n"
      ],
      "metadata": {
        "id": "b654vQDPUGXz"
      }
    },
    {
      "cell_type": "code",
      "source": [
        "import numpy as np\n",
        "import pandas as pd\n",
        "import cv2 as cv\n",
        "from google.colab.patches import cv2_imshow\n",
        "from skimage import io\n",
        "from skimage import transform\n",
        "from PIL import Image\n",
        "import matplotlib.pylab as plt\n",
        "\n",
        "urls = [\"https://iiif.lib.ncsu.edu/iiif/0052574/full/800,/0/default.jpg\",\"https://iiif.lib.ncsu.edu/iiif/0016007/full/800,/0/default.jpg\",\"https://placekitten.com/800/571\"]\n",
        "\n",
        "for url in urls:\n",
        "  image = io.imread(url)\n",
        "  image = cv.resize(image,(0,0), fx=0.5, fy=0.5)\n",
        "  image_2 = cv.cvtColor(image, cv.COLOR_BGR2RGB)\n",
        "  final_frame = cv.hconcat((image, image_2))\n",
        "  cv2_imshow(final_frame)\n",
        "  print('\\n')\n",
        "\n"
      ],
      "metadata": {
        "id": "qQWJtd-RU0d3"
      },
      "execution_count": null,
      "outputs": []
    },
    {
      "cell_type": "code",
      "source": [
        "# 2. Buat garis vertikal dan garis menyilang diagonal pada image keluaran\n",
        "image_2 = cv.cvtColor(image, cv.COLOR_BGR2RGB)\n",
        "image_3 = cv.cvtColor(image, cv.COLOR_BGR2RGB)\n",
        "image_4 = cv.cvtColor(image, cv.COLOR_BGR2RGB)\n",
        "\n",
        "for y in range (tinggi):\n",
        "  image_3[y, int((lebar)/2)] = [255,255,255]\n",
        "\n",
        "for y in range (lebar):\n",
        "  image_4[int((tinggi/lebar*y)),y] = [255,255,255]\n",
        "  image_4[int((tinggi/lebar*y)),(lebar-1-y)] = [255,255,255]\n",
        "\n",
        "final_frame = cv.hconcat((image_2, image_3, image_4))\n",
        "cv2_imshow(final_frame)\n",
        "\n",
        "\n"
      ],
      "metadata": {
        "id": "FCyti1U-Y8_g"
      },
      "execution_count": null,
      "outputs": []
    },
    {
      "cell_type": "code",
      "source": [
        "# 3. Buat garis horisontal berwarna putih dibagian tengah gambar dengan panjang tertentu\n",
        "image_2 = cv.cvtColor(image, cv.COLOR_BGR2RGB)\n",
        "image_3 = cv.cvtColor(image, cv.COLOR_BGR2RGB)\n",
        "\n",
        "# membuat garis horizontal di tengah image\n",
        "for y in range(100, 300):\n",
        "  image_3[int((tinggi)/2), y] = [255,255,255]\n",
        "\n",
        "final_frame = cv.hconcat((image_2, image_3))\n",
        "cv2_imshow(final_frame)\n"
      ],
      "metadata": {
        "id": "Sln6Y1TacTz5"
      },
      "execution_count": null,
      "outputs": []
    },
    {
      "cell_type": "code",
      "source": [
        "# 4. Buat kotak menggunakan kumpulan pixel warna putih di sembarang tempat dalam gambar\n",
        "image_2 = cv.cvtColor(image, cv.COLOR_BGR2RGB)\n",
        "image_3 = cv.cvtColor(image, cv.COLOR_BGR2RGB)\n",
        "\n",
        "for y in range (100,200):\n",
        "  for x in range(100,200):\n",
        "    image_3[x,y] =[255,255,255]\n",
        "\n",
        "final_frame = cv.hconcat((image_2 , image_3))\n",
        "cv2_imshow(final_frame)\n",
        "\n"
      ],
      "metadata": {
        "id": "k-2ARMSsfdwb"
      },
      "execution_count": null,
      "outputs": []
    },
    {
      "cell_type": "markdown",
      "source": [
        "# Tugas Kelompok\n",
        "## Kelompok 8\n",
        "\n",
        "###  Menutup bagian kabupaten dan tanggal dikeluarkan KTP yang ada dibagian bawah foto\n"
      ],
      "metadata": {
        "id": "9UQHzeA6gg_p"
      }
    },
    {
      "cell_type": "code",
      "source": [
        "#Jawab\n",
        "import numpy as np\n",
        "import pandas as pd\n",
        "import cv2 as cv\n",
        "from google.colab.patches import cv2_imshow # for image display\n",
        "from skimage import io\n",
        "from skimage import transform\n",
        "from PIL import Image\n",
        "import matplotlib.pylab as plt\n",
        "\n",
        "# Membuat list untuk menyimpan url dari beberapa image\n",
        "urls = [\"/content/KTP.jpeg\"]\n",
        "# baca dan tampilkan image\n",
        "for url in urls:\n",
        "  image = io.imread(url)\t\t\t\t                  #read image\n",
        "  image_2 = cv.cvtColor(image, cv.COLOR_BGR2RGB)\t#convert color to RGB\n",
        "  cv2_imshow(image_2)\t\t\t\t                  #show image\n",
        "  print('\\n')\n",
        "\n",
        "image_3 = cv.cvtColor(image, cv.COLOR_BGR2RGB)\n",
        "\n",
        "for y in range (630,735):\n",
        "  for x in range (340,360):\n",
        "    image_3[x,y] = [0,255,255]\n",
        "\n",
        "for y in range (630,735):\n",
        "  for x in range (365,385):\n",
        "    image_3[x,y] = [255,0,0]\n",
        "\n",
        "cv2_imshow(image_3)\n",
        "\n"
      ],
      "metadata": {
        "id": "pHV5v_58hElz"
      },
      "execution_count": null,
      "outputs": []
    }
  ]
}