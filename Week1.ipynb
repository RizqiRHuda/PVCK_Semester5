{
  "nbformat": 4,
  "nbformat_minor": 0,
  "metadata": {
    "colab": {
      "provenance": [],
      "authorship_tag": "ABX9TyMsxauBI+LfwTPicK88lsTz",
      "include_colab_link": true
    },
    "kernelspec": {
      "name": "python3",
      "display_name": "Python 3"
    },
    "language_info": {
      "name": "python"
    }
  },
  "cells": [
    {
      "cell_type": "markdown",
      "metadata": {
        "id": "view-in-github",
        "colab_type": "text"
      },
      "source": [
        "<a href=\"https://colab.research.google.com/github/RizqiRHuda/PVCK_Semester5/blob/main/Week1.ipynb\" target=\"_parent\"><img src=\"https://colab.research.google.com/assets/colab-badge.svg\" alt=\"Open In Colab\"/></a>"
      ]
    },
    {
      "cell_type": "markdown",
      "source": [
        "Langkah 1"
      ],
      "metadata": {
        "id": "niUtpB5uFffh"
      }
    },
    {
      "cell_type": "code",
      "source": [
        "import numpy as np\n",
        "import pandas as pd\n",
        "import cv2 as cv\n",
        "from google.colab.patches import cv2_imshow\n",
        "from skimage import io\n",
        "from skimage import transform\n",
        "from PIL import Image\n",
        "import matplotlib.pylab as plt"
      ],
      "metadata": {
        "id": "vuYPOPo3GeM2"
      },
      "execution_count": 3,
      "outputs": []
    },
    {
      "cell_type": "markdown",
      "source": [
        "Langkah 2"
      ],
      "metadata": {
        "id": "D6QVfP06FzlT"
      }
    },
    {
      "cell_type": "code",
      "source": [
        "urls = [\"https://iiif.lib.ncsu.edu/iiif/0052574/full/800,/0/default.jpg\",\"https://iiif.lib.ncsu.edu/iiif/0016007/full/800,/0/default.jpg\",\"https://placekitten.com/800/571\"]\n",
        "\n",
        "for url in urls:\n",
        "  image = io.imread(url)\n",
        "  image = cv.resize(image,(0,0), fx=0.5, fy=0.5)\n",
        "  image_2 = cv.cvtColor(image, cv.COLOR_BGR2RGB)\n",
        "  final_frame = cv.hconcat((image, image_2))\n",
        "  cv2_imshow(final_frame)\n",
        "  print('\\n')\n"
      ],
      "metadata": {
        "id": "M21NeQ69GJgC"
      },
      "execution_count": null,
      "outputs": []
    },
    {
      "cell_type": "markdown",
      "source": [
        "Langkah 3"
      ],
      "metadata": {
        "id": "KYI8YMueIUSN"
      }
    },
    {
      "cell_type": "code",
      "source": [
        "tinggi = image_2.shape[0]\n",
        "lebar = image_2.shape[1]\n",
        "print(\"resolusi image: tinggi x lebar = \", tinggi, \" x\" , lebar)\n",
        "cv2_imshow(image_2)"
      ],
      "metadata": {
        "id": "8UWz1IpfIWZV"
      },
      "execution_count": null,
      "outputs": []
    },
    {
      "cell_type": "markdown",
      "source": [
        "Langkah 4"
      ],
      "metadata": {
        "id": "JiiFN55tI9fQ"
      }
    },
    {
      "cell_type": "code",
      "source": [
        "image_2 = cv.cvtColor(image, cv.COLOR_BGR2RGB)\n",
        "image_3 = cv.cvtColor(image, cv.COLOR_BGR2RGB)\n",
        "\n",
        "# membuat garis horizontal di tengah image\n",
        "for y in range(lebar):\n",
        "  image_3[int((tinggi)/2), y] = [255,255,255]\n",
        "\n",
        "final_frame = cv.hconcat((image_2, image_3))\n",
        "cv2_imshow(final_frame)"
      ],
      "metadata": {
        "id": "Bk6Na6ugJCv7"
      },
      "execution_count": null,
      "outputs": []
    }
  ]
}